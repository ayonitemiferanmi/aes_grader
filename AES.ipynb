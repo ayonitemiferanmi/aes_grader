{
 "cells": [
  {
   "cell_type": "markdown",
   "id": "639bca34",
   "metadata": {},
   "source": [
    "#### SEMANTIC SIMILARITY SCORE APPROACH"
   ]
  },
  {
   "cell_type": "code",
   "execution_count": 77,
   "id": "3046fda5",
   "metadata": {},
   "outputs": [],
   "source": [
    "import requests\n",
    "import json\n",
    "import numpy as np\n",
    "import pandas as pd\n",
    "import matplotlib.pyplot as plt"
   ]
  },
  {
   "cell_type": "code",
   "execution_count": 2,
   "metadata": {},
   "outputs": [],
   "source": [
    "# Data for teacher\n",
    "teacher_data = {\n",
    "  \"1\":\n",
    "  {\n",
    "    \"question\": \"What is the primary function of the mitochondria in a cell?\",\n",
    "    \"answer\": \"The mitochondria are responsible for producing energy in the form of ATP through cellular respiration.\"\n",
    "  },\n",
    "\n",
    "  \"2\":\n",
    "  {\n",
    "    \"question\": \"Explain the principle of separation of powers in government.\",\n",
    "    \"answer\": \"The principle of separation of powers divides the government into three branches—legislative, executive, and judicial—to prevent abuse of power by ensuring that no one branch has complete control.\"\n",
    "  },\n",
    "\n",
    "  \"3\":\n",
    "  {\n",
    "    \"question\": \"What is Newton's Second Law of Motion?\",\n",
    "    \"answer\": \"Newton's Second Law states that the force acting on an object is equal to the mass of that object multiplied by its acceleration (F = ma).\"\n",
    "  },\n",
    "\n",
    "  \"4\":\n",
    "  {\n",
    "    \"question\": \"Describe the process of photosynthesis.\",\n",
    "    \"answer\": \"Photosynthesis is the process by which green plants use sunlight, carbon dioxide, and water to produce glucose and oxygen.\"\n",
    "  },\n",
    "\n",
    "  \"5\":\n",
    "  {\n",
    "    \"question\": \"What are the three states of matter and how do they differ?\",\n",
    "    \"answer\": \"The three states of matter are solid, liquid, and gas. Solids have fixed shape and volume, liquids have fixed volume but not shape, and gases have neither fixed shape nor volume.\"\n",
    "  },\n",
    "\n",
    "  \"6\":\n",
    "  {\n",
    "    \"question\": \"Define opportunity cost in economics.\",\n",
    "    \"answer\": \"Opportunity cost is the value of the next best alternative foregone when a decision is made to choose one option over another.\"\n",
    "  },\n",
    "\n",
    "  \"7\":\n",
    "  {\n",
    "    \"question\": \"What is the significance of the Battle of Hastings in English history?\",\n",
    "    \"answer\": \"The Battle of Hastings in 1066 marked the Norman conquest of England, leading to significant cultural and political changes in the country.\"\n",
    "  },\n",
    "\n",
    "  \"8\":\n",
    "  {\n",
    "    \"question\": \"What is the function of the legislative arm of government?\",\n",
    "    \"answer\": \"The legislative arm of government is responsible for making, amending, and repealing laws.\"\n",
    "  },\n",
    "\n",
    "  \"9\":\n",
    "  {\n",
    "    \"question\": \"Explain the concept of supply and demand.\",\n",
    "    \"answer\": \"Supply and demand is an economic model that determines the price of goods in a market, where price is affected by the quantity of goods available (supply) and the desire for them (demand).\"\n",
    "  },\n",
    "\n",
    "  \"10\":\n",
    "  {\n",
    "    \"question\": \"What is the role of enzymes in biological processes?\",\n",
    "    \"answer\": \"Enzymes act as catalysts in biological processes, speeding up chemical reactions without being consumed in the process.\"\n",
    "  }\n",
    "}\n"
   ]
  },
  {
   "cell_type": "code",
   "execution_count": 3,
   "id": "939b42b7",
   "metadata": {},
   "outputs": [],
   "source": [
    "# Data for students\n",
    "student_data = {\n",
    "  \"1\": \n",
    "  {\n",
    "    \"question\": \"What is the primary function of the mitochondria in a cell?\",\n",
    "    \"answer\": \"Mitochondria serve as the power generators of the cell, converting nutrients into ATP energy through the process of cellular respiration.\"\n",
    "  },\n",
    "\n",
    "  \"2\":\n",
    "  {\n",
    "    \"question\": \"Explain the principle of separation of powers in government.\",\n",
    "    \"answer\": \"Separation of powers ensures that authority in a government is shared among the legislative, executive, and judicial branches to maintain checks and prevent any single entity from gaining unchecked control.\"\n",
    "  },\n",
    "\n",
    "  \"3\":\n",
    "  {\n",
    "    \"question\": \"What is Newton's Second Law of Motion?\",\n",
    "    \"answer\": \"According to Newton's Second Law, an object's acceleration is produced when a force acts on its mass, expressed mathematically as F = m × a.\"\n",
    "  },\n",
    "\n",
    "  \"4\":\n",
    "  {\n",
    "    \"question\": \"Describe the process of photosynthesis.\",\n",
    "    \"answer\": \"Photosynthesis is the method by which plants convert sunlight, water, and carbon dioxide into glucose for energy and release oxygen as a byproduct.\"\n",
    "  },\n",
    "\n",
    "  \"5\":\n",
    "  {\n",
    "    \"question\": \"What are the three states of matter and how do they differ?\",\n",
    "    \"answer\": \"Matter exists in three main forms: solid, liquid, and gas. Solids maintain a definite shape and volume, liquids adjust shape but not volume, and gases change both shape and volume depending on their container.\"\n",
    "  },\n",
    "\n",
    "  \"6\":\n",
    "  {\n",
    "    \"question\": \"Define opportunity cost in economics.\",\n",
    "    \"answer\": \"Opportunity cost refers to the benefit or value lost when choosing one option over another available alternative.\"\n",
    "  },\n",
    "\n",
    "  \"7\":\n",
    "  {\n",
    "    \"question\": \"What is the significance of the Battle of Hastings in English history?\",\n",
    "    \"answer\": \"The 1066 Battle of Hastings was a pivotal event that led to Norman rule in England and initiated major shifts in the country's governance and cultural landscape.\"\n",
    "  },\n",
    "\n",
    "  \"8\":\n",
    "  {\n",
    "    \"question\": \"What is the function of the legislative arm of government?\",\n",
    "    \"answer\": \"The legislative branch plays a central role in creating, modifying, and repealing laws that govern a nation or state.\"\n",
    "  },\n",
    "\n",
    "  \"9\":\n",
    "  {\n",
    "    \"question\": \"Explain the concept of supply and demand.\",\n",
    "    \"answer\": \"Supply and demand is a fundamental economic theory where the price of goods is influenced by how much of a product is available and how much consumers want it.\"\n",
    "  },\n",
    "\n",
    "  \"10\":\n",
    "  {\n",
    "    \"question\": \"What is the role of enzymes in biological processes?\",\n",
    "    \"answer\": \"Enzymes function as biological catalysts, accelerating chemical reactions in living organisms without undergoing permanent changes themselves.\"\n",
    "  }\n",
    "}\n"
   ]
  },
  {
   "cell_type": "code",
   "execution_count": 4,
   "id": "ea899574",
   "metadata": {},
   "outputs": [],
   "source": [
    "# Iterating through the keys of both the teacher data to create a combined data\n",
    "combined_user_data = {}\n",
    "for question_id in teacher_data.keys():\n",
    "    if question_id in student_data.keys():\n",
    "        combined_user_data[question_id] = {\n",
    "            \"question\": student_data[question_id][\"question\"],\n",
    "            \"student_answer\": student_data[question_id][\"answer\"],\n",
    "            \"teacher_answer\": teacher_data[question_id][\"answer\"]\n",
    "        }"
   ]
  },
  {
   "cell_type": "code",
   "execution_count": 5,
   "id": "49a22c83",
   "metadata": {},
   "outputs": [
    {
     "data": {
      "text/plain": [
       "{'question': 'What is the primary function of the mitochondria in a cell?',\n",
       " 'student_answer': 'Mitochondria serve as the power generators of the cell, converting nutrients into ATP energy through the process of cellular respiration.',\n",
       " 'teacher_answer': 'The mitochondria are responsible for producing energy in the form of ATP through cellular respiration.'}"
      ]
     },
     "execution_count": 5,
     "metadata": {},
     "output_type": "execute_result"
    }
   ],
   "source": [
    "combined_user_data[\"1\"]"
   ]
  },
  {
   "cell_type": "code",
   "execution_count": 7,
   "id": "ae8ca106",
   "metadata": {},
   "outputs": [
    {
     "name": "stdout",
     "output_type": "stream",
     "text": [
      "WARNING:tensorflow:From c:\\Users\\Rise Networks\\Desktop\\AI_theory_grader\\aes_venv\\Lib\\site-packages\\tf_keras\\src\\losses.py:2976: The name tf.losses.sparse_softmax_cross_entropy is deprecated. Please use tf.compat.v1.losses.sparse_softmax_cross_entropy instead.\n",
      "\n"
     ]
    }
   ],
   "source": [
    "from sentence_transformers import SentenceTransformer, util\n",
    "\n",
    "# Instantiating the embedding model\n",
    "model = SentenceTransformer('sentence-transformers/all-MiniLM-L6-v2')\n",
    "\n",
    "# Creating an embeddings list to store the embeddings\n",
    "embeddings = []\n",
    "\n",
    "# Creating a similarity list to store the similarity scores\n",
    "similarity = []\n",
    "# Iterating through the combined data\n",
    "for i in combined_user_data:\n",
    "    # Tokenizing both the student and teacher responses\n",
    "    answers_embed = model.encode([combined_user_data[i][\"student_answer\"], combined_user_data[i][\"teacher_answer\"]])\n",
    "    # Appending the tokenized answers into embeddings list so we can perform similarity check\n",
    "    embeddings.append(answers_embed)\n",
    "\n",
    "    # Check for the similarity using cosine similarity from sentence transformers and store inside similarity list\n",
    "    for compare, source in embeddings:\n",
    "        similarity_score = util.pytorch_cos_sim(compare, source)\n",
    "        similarity_score = round(float(similarity_score), 3)\n",
    "        # similarity.append(round(float(similarity_score), 3))\n",
    "\n",
    "        # Append similarity score back to its id and combined response\n",
    "        combined_user_data[i][\"similarity_score\"] = similarity_score"
   ]
  },
  {
   "cell_type": "code",
   "execution_count": 8,
   "id": "a556fe16",
   "metadata": {},
   "outputs": [
    {
     "data": {
      "text/plain": [
       "{'1': {'question': 'What is the primary function of the mitochondria in a cell?',\n",
       "  'student_answer': 'Mitochondria serve as the power generators of the cell, converting nutrients into ATP energy through the process of cellular respiration.',\n",
       "  'teacher_answer': 'The mitochondria are responsible for producing energy in the form of ATP through cellular respiration.',\n",
       "  'similarity_score': 0.884},\n",
       " '2': {'question': 'Explain the principle of separation of powers in government.',\n",
       "  'student_answer': 'Separation of powers ensures that authority in a government is shared among the legislative, executive, and judicial branches to maintain checks and prevent any single entity from gaining unchecked control.',\n",
       "  'teacher_answer': 'The principle of separation of powers divides the government into three branches—legislative, executive, and judicial—to prevent abuse of power by ensuring that no one branch has complete control.',\n",
       "  'similarity_score': 0.823},\n",
       " '3': {'question': \"What is Newton's Second Law of Motion?\",\n",
       "  'student_answer': \"According to Newton's Second Law, an object's acceleration is produced when a force acts on its mass, expressed mathematically as F = m × a.\",\n",
       "  'teacher_answer': \"Newton's Second Law states that the force acting on an object is equal to the mass of that object multiplied by its acceleration (F = ma).\",\n",
       "  'similarity_score': 0.884},\n",
       " '4': {'question': 'Describe the process of photosynthesis.',\n",
       "  'student_answer': 'Photosynthesis is the method by which plants convert sunlight, water, and carbon dioxide into glucose for energy and release oxygen as a byproduct.',\n",
       "  'teacher_answer': 'Photosynthesis is the process by which green plants use sunlight, carbon dioxide, and water to produce glucose and oxygen.',\n",
       "  'similarity_score': 0.918},\n",
       " '5': {'question': 'What are the three states of matter and how do they differ?',\n",
       "  'student_answer': 'Matter exists in three main forms: solid, liquid, and gas. Solids maintain a definite shape and volume, liquids adjust shape but not volume, and gases change both shape and volume depending on their container.',\n",
       "  'teacher_answer': 'The three states of matter are solid, liquid, and gas. Solids have fixed shape and volume, liquids have fixed volume but not shape, and gases have neither fixed shape nor volume.',\n",
       "  'similarity_score': 0.866},\n",
       " '6': {'question': 'Define opportunity cost in economics.',\n",
       "  'student_answer': 'Opportunity cost refers to the benefit or value lost when choosing one option over another available alternative.',\n",
       "  'teacher_answer': 'Opportunity cost is the value of the next best alternative foregone when a decision is made to choose one option over another.',\n",
       "  'similarity_score': 0.875},\n",
       " '7': {'question': 'What is the significance of the Battle of Hastings in English history?',\n",
       "  'student_answer': \"The 1066 Battle of Hastings was a pivotal event that led to Norman rule in England and initiated major shifts in the country's governance and cultural landscape.\",\n",
       "  'teacher_answer': 'The Battle of Hastings in 1066 marked the Norman conquest of England, leading to significant cultural and political changes in the country.',\n",
       "  'similarity_score': 0.924},\n",
       " '8': {'question': 'What is the function of the legislative arm of government?',\n",
       "  'student_answer': 'The legislative branch plays a central role in creating, modifying, and repealing laws that govern a nation or state.',\n",
       "  'teacher_answer': 'The legislative arm of government is responsible for making, amending, and repealing laws.',\n",
       "  'similarity_score': 0.731},\n",
       " '9': {'question': 'Explain the concept of supply and demand.',\n",
       "  'student_answer': 'Supply and demand is a fundamental economic theory where the price of goods is influenced by how much of a product is available and how much consumers want it.',\n",
       "  'teacher_answer': 'Supply and demand is an economic model that determines the price of goods in a market, where price is affected by the quantity of goods available (supply) and the desire for them (demand).',\n",
       "  'similarity_score': 0.95},\n",
       " '10': {'question': 'What is the role of enzymes in biological processes?',\n",
       "  'student_answer': 'Enzymes function as biological catalysts, accelerating chemical reactions in living organisms without undergoing permanent changes themselves.',\n",
       "  'teacher_answer': 'Enzymes act as catalysts in biological processes, speeding up chemical reactions without being consumed in the process.',\n",
       "  'similarity_score': 0.877}}"
      ]
     },
     "execution_count": 8,
     "metadata": {},
     "output_type": "execute_result"
    }
   ],
   "source": [
    "combined_user_data"
   ]
  },
  {
   "cell_type": "code",
   "execution_count": 9,
   "id": "7d2cacbc",
   "metadata": {},
   "outputs": [],
   "source": [
    "# Check for the similarity using cosine similarity from sentence transformers and store inside similarity list\n",
    "similarity = []\n",
    "for compare, source in embeddings:\n",
    "    similarity_score = util.pytorch_cos_sim(compare, source)\n",
    "    similarity.append(round(float(similarity_score), 3))"
   ]
  },
  {
   "cell_type": "code",
   "execution_count": 10,
   "id": "b0272e34",
   "metadata": {},
   "outputs": [
    {
     "name": "stdout",
     "output_type": "stream",
     "text": [
      "[0.884, 0.823, 0.884, 0.918, 0.866, 0.875, 0.924, 0.731, 0.95, 0.877]\n"
     ]
    }
   ],
   "source": [
    "# printing out the similarity score\n",
    "print(similarity)"
   ]
  },
  {
   "cell_type": "code",
   "execution_count": 57,
   "id": "d4038da9",
   "metadata": {},
   "outputs": [
    {
     "data": {
      "text/plain": [
       "10"
      ]
     },
     "execution_count": 57,
     "metadata": {},
     "output_type": "execute_result"
    }
   ],
   "source": [
    "# Input features will be the embeddings while the target feature will be the similarity score\n",
    "len(embeddings)"
   ]
  },
  {
   "cell_type": "code",
   "execution_count": 22,
   "id": "3192cd12",
   "metadata": {},
   "outputs": [
    {
     "data": {
      "text/plain": [
       "[0.884, 0.823, 0.884, 0.918, 0.866, 0.875, 0.924, 0.731, 0.95, 0.877]"
      ]
     },
     "execution_count": 22,
     "metadata": {},
     "output_type": "execute_result"
    }
   ],
   "source": [
    "similarity"
   ]
  },
  {
   "cell_type": "code",
   "execution_count": 58,
   "id": "811aa691",
   "metadata": {},
   "outputs": [],
   "source": [
    "# Creating X\n",
    "X = []\n",
    "for e in embeddings:\n",
    "    X.append(e.flatten())\n",
    "\n",
    "X = np.array(X)"
   ]
  },
  {
   "cell_type": "code",
   "execution_count": 59,
   "id": "298d8a18",
   "metadata": {},
   "outputs": [],
   "source": [
    "# Creating y\n",
    "y = np.array(similarity)"
   ]
  },
  {
   "cell_type": "code",
   "execution_count": 60,
   "id": "ddefd67e",
   "metadata": {},
   "outputs": [
    {
     "data": {
      "text/plain": [
       "(10, 768)"
      ]
     },
     "execution_count": 60,
     "metadata": {},
     "output_type": "execute_result"
    }
   ],
   "source": [
    "X.shape"
   ]
  },
  {
   "cell_type": "code",
   "execution_count": 61,
   "id": "7cb90425",
   "metadata": {},
   "outputs": [
    {
     "data": {
      "text/plain": [
       "(10,)"
      ]
     },
     "execution_count": 61,
     "metadata": {},
     "output_type": "execute_result"
    }
   ],
   "source": [
    "y.shape"
   ]
  },
  {
   "cell_type": "code",
   "execution_count": 62,
   "id": "1e6ef384",
   "metadata": {},
   "outputs": [],
   "source": [
    "# Building the model\n",
    "import tensorflow as tf\n",
    "from tensorflow.keras.models import Sequential\n",
    "from tensorflow.keras.layers import Dense\n",
    "from tensorflow.keras.layers import InputLayer, Input\n",
    "from tensorflow.keras.optimizers import Adam, AdamW\n",
    "from tensorflow.keras.losses import MeanSquaredError, MSE"
   ]
  },
  {
   "cell_type": "code",
   "execution_count": 65,
   "id": "46a367d6",
   "metadata": {},
   "outputs": [],
   "source": [
    "# Building a simple ANN\n",
    "model = Sequential([\n",
    "    Input(shape=(X.shape[1], )),\n",
    "    # First neural network layer\n",
    "    Dense(32, activation=\"relu\"),\n",
    "    # Second layer\n",
    "    Dense(64, activation=\"relu\"),\n",
    "    # Third neural network layer\n",
    "    Dense(128, activation=\"relu\"),\n",
    "    # Four neural network layer\n",
    "    Dense(256, activation=\"relu\"),\n",
    "\n",
    "    # Output layer\n",
    "    Dense(1)\n",
    "])"
   ]
  },
  {
   "cell_type": "code",
   "execution_count": 66,
   "id": "539dc3ba",
   "metadata": {},
   "outputs": [
    {
     "data": {
      "text/html": [
       "<pre style=\"white-space:pre;overflow-x:auto;line-height:normal;font-family:Menlo,'DejaVu Sans Mono',consolas,'Courier New',monospace\"><span style=\"font-weight: bold\">Model: \"sequential_5\"</span>\n",
       "</pre>\n"
      ],
      "text/plain": [
       "\u001b[1mModel: \"sequential_5\"\u001b[0m\n"
      ]
     },
     "metadata": {},
     "output_type": "display_data"
    },
    {
     "data": {
      "text/html": [
       "<pre style=\"white-space:pre;overflow-x:auto;line-height:normal;font-family:Menlo,'DejaVu Sans Mono',consolas,'Courier New',monospace\">┏━━━━━━━━━━━━━━━━━━━━━━━━━━━━━━━━━┳━━━━━━━━━━━━━━━━━━━━━━━━┳━━━━━━━━━━━━━━━┓\n",
       "┃<span style=\"font-weight: bold\"> Layer (type)                    </span>┃<span style=\"font-weight: bold\"> Output Shape           </span>┃<span style=\"font-weight: bold\">       Param # </span>┃\n",
       "┡━━━━━━━━━━━━━━━━━━━━━━━━━━━━━━━━━╇━━━━━━━━━━━━━━━━━━━━━━━━╇━━━━━━━━━━━━━━━┩\n",
       "│ dense_25 (<span style=\"color: #0087ff; text-decoration-color: #0087ff\">Dense</span>)                │ (<span style=\"color: #00d7ff; text-decoration-color: #00d7ff\">None</span>, <span style=\"color: #00af00; text-decoration-color: #00af00\">32</span>)             │        <span style=\"color: #00af00; text-decoration-color: #00af00\">24,608</span> │\n",
       "├─────────────────────────────────┼────────────────────────┼───────────────┤\n",
       "│ dense_26 (<span style=\"color: #0087ff; text-decoration-color: #0087ff\">Dense</span>)                │ (<span style=\"color: #00d7ff; text-decoration-color: #00d7ff\">None</span>, <span style=\"color: #00af00; text-decoration-color: #00af00\">64</span>)             │         <span style=\"color: #00af00; text-decoration-color: #00af00\">2,112</span> │\n",
       "├─────────────────────────────────┼────────────────────────┼───────────────┤\n",
       "│ dense_27 (<span style=\"color: #0087ff; text-decoration-color: #0087ff\">Dense</span>)                │ (<span style=\"color: #00d7ff; text-decoration-color: #00d7ff\">None</span>, <span style=\"color: #00af00; text-decoration-color: #00af00\">128</span>)            │         <span style=\"color: #00af00; text-decoration-color: #00af00\">8,320</span> │\n",
       "├─────────────────────────────────┼────────────────────────┼───────────────┤\n",
       "│ dense_28 (<span style=\"color: #0087ff; text-decoration-color: #0087ff\">Dense</span>)                │ (<span style=\"color: #00d7ff; text-decoration-color: #00d7ff\">None</span>, <span style=\"color: #00af00; text-decoration-color: #00af00\">256</span>)            │        <span style=\"color: #00af00; text-decoration-color: #00af00\">33,024</span> │\n",
       "├─────────────────────────────────┼────────────────────────┼───────────────┤\n",
       "│ dense_29 (<span style=\"color: #0087ff; text-decoration-color: #0087ff\">Dense</span>)                │ (<span style=\"color: #00d7ff; text-decoration-color: #00d7ff\">None</span>, <span style=\"color: #00af00; text-decoration-color: #00af00\">1</span>)              │           <span style=\"color: #00af00; text-decoration-color: #00af00\">257</span> │\n",
       "└─────────────────────────────────┴────────────────────────┴───────────────┘\n",
       "</pre>\n"
      ],
      "text/plain": [
       "┏━━━━━━━━━━━━━━━━━━━━━━━━━━━━━━━━━┳━━━━━━━━━━━━━━━━━━━━━━━━┳━━━━━━━━━━━━━━━┓\n",
       "┃\u001b[1m \u001b[0m\u001b[1mLayer (type)                   \u001b[0m\u001b[1m \u001b[0m┃\u001b[1m \u001b[0m\u001b[1mOutput Shape          \u001b[0m\u001b[1m \u001b[0m┃\u001b[1m \u001b[0m\u001b[1m      Param #\u001b[0m\u001b[1m \u001b[0m┃\n",
       "┡━━━━━━━━━━━━━━━━━━━━━━━━━━━━━━━━━╇━━━━━━━━━━━━━━━━━━━━━━━━╇━━━━━━━━━━━━━━━┩\n",
       "│ dense_25 (\u001b[38;5;33mDense\u001b[0m)                │ (\u001b[38;5;45mNone\u001b[0m, \u001b[38;5;34m32\u001b[0m)             │        \u001b[38;5;34m24,608\u001b[0m │\n",
       "├─────────────────────────────────┼────────────────────────┼───────────────┤\n",
       "│ dense_26 (\u001b[38;5;33mDense\u001b[0m)                │ (\u001b[38;5;45mNone\u001b[0m, \u001b[38;5;34m64\u001b[0m)             │         \u001b[38;5;34m2,112\u001b[0m │\n",
       "├─────────────────────────────────┼────────────────────────┼───────────────┤\n",
       "│ dense_27 (\u001b[38;5;33mDense\u001b[0m)                │ (\u001b[38;5;45mNone\u001b[0m, \u001b[38;5;34m128\u001b[0m)            │         \u001b[38;5;34m8,320\u001b[0m │\n",
       "├─────────────────────────────────┼────────────────────────┼───────────────┤\n",
       "│ dense_28 (\u001b[38;5;33mDense\u001b[0m)                │ (\u001b[38;5;45mNone\u001b[0m, \u001b[38;5;34m256\u001b[0m)            │        \u001b[38;5;34m33,024\u001b[0m │\n",
       "├─────────────────────────────────┼────────────────────────┼───────────────┤\n",
       "│ dense_29 (\u001b[38;5;33mDense\u001b[0m)                │ (\u001b[38;5;45mNone\u001b[0m, \u001b[38;5;34m1\u001b[0m)              │           \u001b[38;5;34m257\u001b[0m │\n",
       "└─────────────────────────────────┴────────────────────────┴───────────────┘\n"
      ]
     },
     "metadata": {},
     "output_type": "display_data"
    },
    {
     "data": {
      "text/html": [
       "<pre style=\"white-space:pre;overflow-x:auto;line-height:normal;font-family:Menlo,'DejaVu Sans Mono',consolas,'Courier New',monospace\"><span style=\"font-weight: bold\"> Total params: </span><span style=\"color: #00af00; text-decoration-color: #00af00\">68,321</span> (266.88 KB)\n",
       "</pre>\n"
      ],
      "text/plain": [
       "\u001b[1m Total params: \u001b[0m\u001b[38;5;34m68,321\u001b[0m (266.88 KB)\n"
      ]
     },
     "metadata": {},
     "output_type": "display_data"
    },
    {
     "data": {
      "text/html": [
       "<pre style=\"white-space:pre;overflow-x:auto;line-height:normal;font-family:Menlo,'DejaVu Sans Mono',consolas,'Courier New',monospace\"><span style=\"font-weight: bold\"> Trainable params: </span><span style=\"color: #00af00; text-decoration-color: #00af00\">68,321</span> (266.88 KB)\n",
       "</pre>\n"
      ],
      "text/plain": [
       "\u001b[1m Trainable params: \u001b[0m\u001b[38;5;34m68,321\u001b[0m (266.88 KB)\n"
      ]
     },
     "metadata": {},
     "output_type": "display_data"
    },
    {
     "data": {
      "text/html": [
       "<pre style=\"white-space:pre;overflow-x:auto;line-height:normal;font-family:Menlo,'DejaVu Sans Mono',consolas,'Courier New',monospace\"><span style=\"font-weight: bold\"> Non-trainable params: </span><span style=\"color: #00af00; text-decoration-color: #00af00\">0</span> (0.00 B)\n",
       "</pre>\n"
      ],
      "text/plain": [
       "\u001b[1m Non-trainable params: \u001b[0m\u001b[38;5;34m0\u001b[0m (0.00 B)\n"
      ]
     },
     "metadata": {},
     "output_type": "display_data"
    }
   ],
   "source": [
    "# Viewing model's architecture\n",
    "model.summary()"
   ]
  },
  {
   "cell_type": "code",
   "execution_count": 67,
   "id": "899201a8",
   "metadata": {},
   "outputs": [],
   "source": [
    "# Compile the model\n",
    "model.compile(loss=MeanSquaredError(), optimizer=Adam(), metrics=[\"mse\"])"
   ]
  },
  {
   "cell_type": "code",
   "execution_count": 68,
   "id": "b99a1c5a",
   "metadata": {},
   "outputs": [
    {
     "name": "stdout",
     "output_type": "stream",
     "text": [
      "Epoch 1/10\n",
      "\u001b[1m1/1\u001b[0m \u001b[32m━━━━━━━━━━━━━━━━━━━━\u001b[0m\u001b[37m\u001b[0m \u001b[1m5s\u001b[0m 5s/step - loss: 0.7654 - mse: 0.7654\n",
      "Epoch 2/10\n",
      "\u001b[1m1/1\u001b[0m \u001b[32m━━━━━━━━━━━━━━━━━━━━\u001b[0m\u001b[37m\u001b[0m \u001b[1m0s\u001b[0m 95ms/step - loss: 0.6976 - mse: 0.6976\n",
      "Epoch 3/10\n",
      "\u001b[1m1/1\u001b[0m \u001b[32m━━━━━━━━━━━━━━━━━━━━\u001b[0m\u001b[37m\u001b[0m \u001b[1m0s\u001b[0m 84ms/step - loss: 0.6297 - mse: 0.6297\n",
      "Epoch 4/10\n",
      "\u001b[1m1/1\u001b[0m \u001b[32m━━━━━━━━━━━━━━━━━━━━\u001b[0m\u001b[37m\u001b[0m \u001b[1m0s\u001b[0m 278ms/step - loss: 0.5551 - mse: 0.5551\n",
      "Epoch 5/10\n",
      "\u001b[1m1/1\u001b[0m \u001b[32m━━━━━━━━━━━━━━━━━━━━\u001b[0m\u001b[37m\u001b[0m \u001b[1m0s\u001b[0m 103ms/step - loss: 0.4709 - mse: 0.4709\n",
      "Epoch 6/10\n",
      "\u001b[1m1/1\u001b[0m \u001b[32m━━━━━━━━━━━━━━━━━━━━\u001b[0m\u001b[37m\u001b[0m \u001b[1m0s\u001b[0m 95ms/step - loss: 0.3777 - mse: 0.3777\n",
      "Epoch 7/10\n",
      "\u001b[1m1/1\u001b[0m \u001b[32m━━━━━━━━━━━━━━━━━━━━\u001b[0m\u001b[37m\u001b[0m \u001b[1m0s\u001b[0m 100ms/step - loss: 0.2795 - mse: 0.2795\n",
      "Epoch 8/10\n",
      "\u001b[1m1/1\u001b[0m \u001b[32m━━━━━━━━━━━━━━━━━━━━\u001b[0m\u001b[37m\u001b[0m \u001b[1m0s\u001b[0m 88ms/step - loss: 0.1829 - mse: 0.1829\n",
      "Epoch 9/10\n",
      "\u001b[1m1/1\u001b[0m \u001b[32m━━━━━━━━━━━━━━━━━━━━\u001b[0m\u001b[37m\u001b[0m \u001b[1m0s\u001b[0m 100ms/step - loss: 0.0977 - mse: 0.0977\n",
      "Epoch 10/10\n",
      "\u001b[1m1/1\u001b[0m \u001b[32m━━━━━━━━━━━━━━━━━━━━\u001b[0m\u001b[37m\u001b[0m \u001b[1m0s\u001b[0m 100ms/step - loss: 0.0395 - mse: 0.0395\n"
     ]
    }
   ],
   "source": [
    "# Model Training\n",
    "history = model.fit(X, y, batch_size=16, epochs=10)"
   ]
  },
  {
   "cell_type": "code",
   "execution_count": 73,
   "id": "49365e9a",
   "metadata": {},
   "outputs": [
    {
     "data": {
      "text/html": [
       "<div>\n",
       "<style scoped>\n",
       "    .dataframe tbody tr th:only-of-type {\n",
       "        vertical-align: middle;\n",
       "    }\n",
       "\n",
       "    .dataframe tbody tr th {\n",
       "        vertical-align: top;\n",
       "    }\n",
       "\n",
       "    .dataframe thead th {\n",
       "        text-align: right;\n",
       "    }\n",
       "</style>\n",
       "<table border=\"1\" class=\"dataframe\">\n",
       "  <thead>\n",
       "    <tr style=\"text-align: right;\">\n",
       "      <th></th>\n",
       "      <th>loss</th>\n",
       "      <th>mse</th>\n",
       "    </tr>\n",
       "  </thead>\n",
       "  <tbody>\n",
       "    <tr>\n",
       "      <th>0</th>\n",
       "      <td>0.765406</td>\n",
       "      <td>0.765406</td>\n",
       "    </tr>\n",
       "    <tr>\n",
       "      <th>1</th>\n",
       "      <td>0.697600</td>\n",
       "      <td>0.697600</td>\n",
       "    </tr>\n",
       "    <tr>\n",
       "      <th>2</th>\n",
       "      <td>0.629714</td>\n",
       "      <td>0.629714</td>\n",
       "    </tr>\n",
       "    <tr>\n",
       "      <th>3</th>\n",
       "      <td>0.555078</td>\n",
       "      <td>0.555078</td>\n",
       "    </tr>\n",
       "    <tr>\n",
       "      <th>4</th>\n",
       "      <td>0.470861</td>\n",
       "      <td>0.470861</td>\n",
       "    </tr>\n",
       "  </tbody>\n",
       "</table>\n",
       "</div>"
      ],
      "text/plain": [
       "       loss       mse\n",
       "0  0.765406  0.765406\n",
       "1  0.697600  0.697600\n",
       "2  0.629714  0.629714\n",
       "3  0.555078  0.555078\n",
       "4  0.470861  0.470861"
      ]
     },
     "execution_count": 73,
     "metadata": {},
     "output_type": "execute_result"
    }
   ],
   "source": [
    "# Visualizing the loss\n",
    "history_df = pd.DataFrame(history.history)\n",
    "history_df.head()"
   ]
  },
  {
   "cell_type": "code",
   "execution_count": 81,
   "id": "acf0ec70",
   "metadata": {},
   "outputs": [
    {
     "data": {
      "image/png": "[encoded data removed]",
      "text/plain": [
       "<Figure size 640x480 with 1 Axes>"
      ]
     },
     "metadata": {},
     "output_type": "display_data"
    }
   ],
   "source": [
    "# Visualizing the loss of the model\n",
    "history_df.loc[:, [\"loss\"]].plot()\n",
    "plt.xlabel(\"Epochs\")\n",
    "plt.ylabel(\"Loss\")\n",
    "plt.title(\"LOSS MEASUREMENT\");\n"
   ]
  },
  {
   "cell_type": "code",
   "execution_count": 84,
   "id": "003ff379",
   "metadata": {},
   "outputs": [
    {
     "data": {
      "image/png": "[encoded data removed]",
      "text/plain": [
       "<Figure size 640x480 with 1 Axes>"
      ]
     },
     "metadata": {},
     "output_type": "display_data"
    }
   ],
   "source": [
    "# Visualizing the MSE of the model\n",
    "history_df.loc[:, [\"mse\"]].plot()\n",
    "plt.xlabel(\"Epochs\")\n",
    "plt.ylabel(\"MSE\")\n",
    "plt.title(\"MSE OF THE MODEL\");"
   ]
  },
  {
   "cell_type": "code",
   "execution_count": 85,
   "id": "71bb4c77",
   "metadata": {},
   "outputs": [
    {
     "name": "stdout",
     "output_type": "stream",
     "text": [
      "\u001b[1m1/1\u001b[0m \u001b[32m━━━━━━━━━━━━━━━━━━━━\u001b[0m\u001b[37m\u001b[0m \u001b[1m1s\u001b[0m 1s/step - loss: 0.0282 - mse: 0.0282\n"
     ]
    },
    {
     "data": {
      "text/plain": [
       "[0.02824181690812111, 0.02824181690812111]"
      ]
     },
     "execution_count": 85,
     "metadata": {},
     "output_type": "execute_result"
    }
   ],
   "source": [
    "model.evaluate(X, y)"
   ]
  },
  {
   "cell_type": "code",
   "execution_count": 4,
   "id": "788af243",
   "metadata": {},
   "outputs": [],
   "source": [
    "import json\n",
    "import pandas as pd"
   ]
  },
  {
   "cell_type": "code",
   "execution_count": 5,
   "id": "c4221f9a",
   "metadata": {},
   "outputs": [],
   "source": [
    "file_path = r\"C:\\Users\\Rise Networks\\Desktop\\AI_theory_grader\\answer.json\"\n",
    "\n",
    "json_data = pd.read_json(file_path)"
   ]
  },
  {
   "cell_type": "code",
   "execution_count": 6,
   "id": "ad3f38d7",
   "metadata": {},
   "outputs": [
    {
     "data": {
      "text/html": [
       "<div>\n",
       "<style scoped>\n",
       "    .dataframe tbody tr th:only-of-type {\n",
       "        vertical-align: middle;\n",
       "    }\n",
       "\n",
       "    .dataframe tbody tr th {\n",
       "        vertical-align: top;\n",
       "    }\n",
       "\n",
       "    .dataframe thead th {\n",
       "        text-align: right;\n",
       "    }\n",
       "</style>\n",
       "<table border=\"1\" class=\"dataframe\">\n",
       "  <thead>\n",
       "    <tr style=\"text-align: right;\">\n",
       "      <th></th>\n",
       "      <th>question_id</th>\n",
       "      <th>type</th>\n",
       "      <th>answer</th>\n",
       "      <th>correct</th>\n",
       "      <th>status</th>\n",
       "    </tr>\n",
       "  </thead>\n",
       "  <tbody>\n",
       "    <tr>\n",
       "      <th>0</th>\n",
       "      <td>5</td>\n",
       "      <td>theory</td>\n",
       "      <td>Science is the art of life</td>\n",
       "      <td>&lt;p&gt;Science can be define as the art of life&lt;/p&gt;</td>\n",
       "      <td>PENDING</td>\n",
       "    </tr>\n",
       "    <tr>\n",
       "      <th>1</th>\n",
       "      <td>14</td>\n",
       "      <td>multiple</td>\n",
       "      <td>5</td>\n",
       "      <td>5</td>\n",
       "      <td>YES</td>\n",
       "    </tr>\n",
       "    <tr>\n",
       "      <th>2</th>\n",
       "      <td>15</td>\n",
       "      <td>multiple</td>\n",
       "      <td>2/3</td>\n",
       "      <td>2/3</td>\n",
       "      <td>YES</td>\n",
       "    </tr>\n",
       "    <tr>\n",
       "      <th>3</th>\n",
       "      <td>16</td>\n",
       "      <td>multiple</td>\n",
       "      <td>5</td>\n",
       "      <td>5</td>\n",
       "      <td>YES</td>\n",
       "    </tr>\n",
       "    <tr>\n",
       "      <th>4</th>\n",
       "      <td>17</td>\n",
       "      <td>alternate</td>\n",
       "      <td>True</td>\n",
       "      <td>True</td>\n",
       "      <td>YES</td>\n",
       "    </tr>\n",
       "    <tr>\n",
       "      <th>5</th>\n",
       "      <td>18</td>\n",
       "      <td>theory</td>\n",
       "      <td>change the position of 4 over to right by subt...</td>\n",
       "      <td>&lt;p&gt;Subtract 4 from both sides: 3x = 12. Divide...</td>\n",
       "      <td>PENDING</td>\n",
       "    </tr>\n",
       "  </tbody>\n",
       "</table>\n",
       "</div>"
      ],
      "text/plain": [
       "   question_id       type                                             answer  \\\n",
       "0            5     theory                         Science is the art of life   \n",
       "1           14   multiple                                                  5   \n",
       "2           15   multiple                                                2/3   \n",
       "3           16   multiple                                                  5   \n",
       "4           17  alternate                                               True   \n",
       "5           18     theory  change the position of 4 over to right by subt...   \n",
       "\n",
       "                                             correct   status  \n",
       "0    <p>Science can be define as the art of life</p>  PENDING  \n",
       "1                                                  5      YES  \n",
       "2                                                2/3      YES  \n",
       "3                                                  5      YES  \n",
       "4                                               True      YES  \n",
       "5  <p>Subtract 4 from both sides: 3x = 12. Divide...  PENDING  "
      ]
     },
     "execution_count": 6,
     "metadata": {},
     "output_type": "execute_result"
    }
   ],
   "source": [
    "json_data"
   ]
  },
  {
   "cell_type": "code",
   "execution_count": null,
   "id": "3c21b2b4",
   "metadata": {},
   "outputs": [],
   "source": []
  }
 ],
 "metadata": {
  "kernelspec": {
   "display_name": "aes_venv",
   "language": "python",
   "name": "python3"
  },
  "language_info": {
   "codemirror_mode": {
    "name": "ipython",
    "version": 3
   },
   "file_extension": ".py",
   "mimetype": "text/x-python",
   "name": "python",
   "nbconvert_exporter": "python",
   "pygments_lexer": "ipython3",
   "version": "3.11.9"
  }
 },
 "nbformat": 4,
 "nbformat_minor": 5
}
