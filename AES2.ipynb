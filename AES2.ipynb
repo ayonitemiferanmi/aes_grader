{
 "cells": [
  {
   "cell_type": "code",
   "execution_count": 1,
   "id": "5eb9e71c",
   "metadata": {},
   "outputs": [],
   "source": [
    "import json\n",
    "import requests\n",
    "import pandas as pd\n",
    "import numpy as np\n",
    "import matplotlib.pyplot as plt"
   ]
  },
  {
   "cell_type": "code",
   "execution_count": 2,
   "id": "95076d53",
   "metadata": {},
   "outputs": [],
   "source": [
    "file_path = r\"C:\\Users\\Rise Networks\\Desktop\\AI_theory_grader\\educational_questions.json\"\n",
    "with open(file_path, \"r\") as f:\n",
    "    json_data = json.load(f)"
   ]
  },
  {
   "cell_type": "code",
   "execution_count": 3,
   "id": "4c10be19",
   "metadata": {},
   "outputs": [
    {
     "data": {
      "text/plain": [
       "{'question_id': '1',\n",
       " 'type': 'theory',\n",
       " 'answer': 'Photosynthesis is the process by which green plants make their food using sunlight, carbon dioxide, and water.',\n",
       " 'correct': '<p>Photosynthesis is the process by which green plants make their food using sunlight, carbon dioxide, and water.</p>',\n",
       " 'status': 'PENDING'}"
      ]
     },
     "execution_count": 3,
     "metadata": {},
     "output_type": "execute_result"
    }
   ],
   "source": [
    "json_data[0]"
   ]
  },
  {
   "cell_type": "code",
   "execution_count": 4,
   "id": "5f253d9c",
   "metadata": {},
   "outputs": [],
   "source": [
    "# Filtering out the questions that are not theory\n",
    "theory_questions = []\n",
    "for data in json_data:\n",
    "    if data[\"type\"] == \"theory\":\n",
    "        theory_questions.append(data)"
   ]
  },
  {
   "cell_type": "code",
   "execution_count": 5,
   "id": "3a42aa5f",
   "metadata": {},
   "outputs": [
    {
     "data": {
      "text/plain": [
       "597"
      ]
     },
     "execution_count": 5,
     "metadata": {},
     "output_type": "execute_result"
    }
   ],
   "source": [
    "len(theory_questions)"
   ]
  },
  {
   "cell_type": "code",
   "execution_count": 6,
   "id": "a332c64b",
   "metadata": {},
   "outputs": [],
   "source": [
    "# Next action is to remove the <p> tag across the correct answers\n",
    "for data in theory_questions:\n",
    "    data[\"correct\"] = data[\"correct\"].strip(\"</p>\")"
   ]
  },
  {
   "cell_type": "code",
   "execution_count": 7,
   "id": "c2de774a",
   "metadata": {},
   "outputs": [
    {
     "data": {
      "text/plain": [
       "{'question_id': '1',\n",
       " 'type': 'theory',\n",
       " 'answer': 'Photosynthesis is the process by which green plants make their food using sunlight, carbon dioxide, and water.',\n",
       " 'correct': 'Photosynthesis is the process by which green plants make their food using sunlight, carbon dioxide, and water.',\n",
       " 'status': 'PENDING'}"
      ]
     },
     "execution_count": 7,
     "metadata": {},
     "output_type": "execute_result"
    }
   ],
   "source": [
    "theory_questions[0]"
   ]
  },
  {
   "cell_type": "code",
   "execution_count": 8,
   "id": "35cf8905",
   "metadata": {},
   "outputs": [
    {
     "name": "stderr",
     "output_type": "stream",
     "text": [
      "c:\\Users\\Rise Networks\\Desktop\\AI_theory_grader\\aes_venv\\Lib\\site-packages\\tqdm\\auto.py:21: TqdmWarning: IProgress not found. Please update jupyter and ipywidgets. See https://ipywidgets.readthedocs.io/en/stable/user_install.html\n",
      "  from .autonotebook import tqdm as notebook_tqdm\n"
     ]
    },
    {
     "name": "stdout",
     "output_type": "stream",
     "text": [
      "WARNING:tensorflow:From c:\\Users\\Rise Networks\\Desktop\\AI_theory_grader\\aes_venv\\Lib\\site-packages\\tf_keras\\src\\losses.py:2976: The name tf.losses.sparse_softmax_cross_entropy is deprecated. Please use tf.compat.v1.losses.sparse_softmax_cross_entropy instead.\n",
      "\n"
     ]
    }
   ],
   "source": [
    "# Load sentence transformers to vectorize or tokenize the correct answer and answer of the student\n",
    "from sentence_transformers import SentenceTransformer, util\n",
    "\n",
    "model = SentenceTransformer(\"sentence-transformers/all-MiniLM-L6-v2\")"
   ]
  },
  {
   "cell_type": "code",
   "execution_count": 9,
   "id": "6fd31646",
   "metadata": {},
   "outputs": [],
   "source": [
    "correct_answer = []\n",
    "users_answer = []\n",
    "for data in theory_questions:\n",
    "    # Append the correct answer into the correct_answer list\n",
    "    correct_answer.append(data[\"correct\"])\n",
    "\n",
    "    # Append the user answer into the users_answer list\n",
    "    users_answer.append(data[\"answer\"])"
   ]
  },
  {
   "cell_type": "code",
   "execution_count": 10,
   "id": "95ed0996",
   "metadata": {},
   "outputs": [],
   "source": [
    "# Tokenizing the correct_answer and the users_answer\n",
    "embeddings = []\n",
    "\n",
    "# Creating a similarity list to store the similarity scores\n",
    "similarity = []\n",
    "\n",
    "# creating a counter to iterate through the number of reponses\n",
    "count = 0\n",
    "for correct, user in zip(correct_answer, users_answer):\n",
    "    # Encoding the correct_answer and user's answer\n",
    "    answer_embeddings = model.encode([correct, user])\n",
    "    # Appending the embeddings of the correct_answer to the correct_answer_embeddings list\n",
    "    embeddings.append(answer_embeddings)\n",
    "\n",
    "# Check for the similarity using cosine similarity from sentence transformers and store inside similarity list\n",
    "for source, compare in embeddings:\n",
    "    similarity_score = util.pytorch_cos_sim(source, compare)\n",
    "    similarity_score = round(float(similarity_score), 3)\n",
    "    similarity.append(round(float(similarity_score), 3))\n",
    "\n",
    "    # Append similarity score back to its id and combined response\n",
    "    theory_questions[count][\"similarity_score\"] = similarity_score\n",
    "    count += 1"
   ]
  },
  {
   "cell_type": "code",
   "execution_count": 11,
   "id": "7fc1ee86",
   "metadata": {},
   "outputs": [],
   "source": [
    "# Creating X \n",
    "X = []\n",
    "for i in embeddings:\n",
    "    e = i.flatten()\n",
    "    X.append(e)"
   ]
  },
  {
   "cell_type": "code",
   "execution_count": 12,
   "id": "16e97dc9",
   "metadata": {},
   "outputs": [
    {
     "data": {
      "text/plain": [
       "(597, 768)"
      ]
     },
     "execution_count": 12,
     "metadata": {},
     "output_type": "execute_result"
    }
   ],
   "source": [
    "# Convert X to array\n",
    "X = np.array(X)\n",
    "X.shape"
   ]
  },
  {
   "cell_type": "code",
   "execution_count": 13,
   "id": "69f27224",
   "metadata": {},
   "outputs": [],
   "source": [
    "# Creating y\n",
    "y = np.array(similarity)"
   ]
  },
  {
   "cell_type": "code",
   "execution_count": 14,
   "id": "39e8099f",
   "metadata": {},
   "outputs": [
    {
     "data": {
      "text/html": [
       "<pre style=\"white-space:pre;overflow-x:auto;line-height:normal;font-family:Menlo,'DejaVu Sans Mono',consolas,'Courier New',monospace\"><span style=\"font-weight: bold\">Model: \"functional\"</span>\n",
       "</pre>\n"
      ],
      "text/plain": [
       "\u001b[1mModel: \"functional\"\u001b[0m\n"
      ]
     },
     "metadata": {},
     "output_type": "display_data"
    },
    {
     "data": {
      "text/html": [
       "<pre style=\"white-space:pre;overflow-x:auto;line-height:normal;font-family:Menlo,'DejaVu Sans Mono',consolas,'Courier New',monospace\">┏━━━━━━━━━━━━━━━━━━━━━┳━━━━━━━━━━━━━━━━━━━┳━━━━━━━━━━━━┳━━━━━━━━━━━━━━━━━━━┓\n",
       "┃<span style=\"font-weight: bold\"> Layer (type)        </span>┃<span style=\"font-weight: bold\"> Output Shape      </span>┃<span style=\"font-weight: bold\">    Param # </span>┃<span style=\"font-weight: bold\"> Connected to      </span>┃\n",
       "┡━━━━━━━━━━━━━━━━━━━━━╇━━━━━━━━━━━━━━━━━━━╇━━━━━━━━━━━━╇━━━━━━━━━━━━━━━━━━━┩\n",
       "│ input_layer         │ (<span style=\"color: #00d7ff; text-decoration-color: #00d7ff\">None</span>, <span style=\"color: #00af00; text-decoration-color: #00af00\">1</span>, <span style=\"color: #00af00; text-decoration-color: #00af00\">768</span>)    │          <span style=\"color: #00af00; text-decoration-color: #00af00\">0</span> │ -                 │\n",
       "│ (<span style=\"color: #0087ff; text-decoration-color: #0087ff\">InputLayer</span>)        │                   │            │                   │\n",
       "├─────────────────────┼───────────────────┼────────────┼───────────────────┤\n",
       "│ attention           │ (<span style=\"color: #00d7ff; text-decoration-color: #00d7ff\">None</span>, <span style=\"color: #00af00; text-decoration-color: #00af00\">1</span>, <span style=\"color: #00af00; text-decoration-color: #00af00\">768</span>)    │          <span style=\"color: #00af00; text-decoration-color: #00af00\">1</span> │ input_layer[<span style=\"color: #00af00; text-decoration-color: #00af00\">0</span>][<span style=\"color: #00af00; text-decoration-color: #00af00\">0</span>… │\n",
       "│ (<span style=\"color: #0087ff; text-decoration-color: #0087ff\">Attention</span>)         │                   │            │ input_layer[<span style=\"color: #00af00; text-decoration-color: #00af00\">0</span>][<span style=\"color: #00af00; text-decoration-color: #00af00\">0</span>… │\n",
       "│                     │                   │            │ input_layer[<span style=\"color: #00af00; text-decoration-color: #00af00\">0</span>][<span style=\"color: #00af00; text-decoration-color: #00af00\">0</span>] │\n",
       "├─────────────────────┼───────────────────┼────────────┼───────────────────┤\n",
       "│ flatten (<span style=\"color: #0087ff; text-decoration-color: #0087ff\">Flatten</span>)   │ (<span style=\"color: #00d7ff; text-decoration-color: #00d7ff\">None</span>, <span style=\"color: #00af00; text-decoration-color: #00af00\">768</span>)       │          <span style=\"color: #00af00; text-decoration-color: #00af00\">0</span> │ attention[<span style=\"color: #00af00; text-decoration-color: #00af00\">0</span>][<span style=\"color: #00af00; text-decoration-color: #00af00\">0</span>]   │\n",
       "├─────────────────────┼───────────────────┼────────────┼───────────────────┤\n",
       "│ dense (<span style=\"color: #0087ff; text-decoration-color: #0087ff\">Dense</span>)       │ (<span style=\"color: #00d7ff; text-decoration-color: #00d7ff\">None</span>, <span style=\"color: #00af00; text-decoration-color: #00af00\">128</span>)       │     <span style=\"color: #00af00; text-decoration-color: #00af00\">98,432</span> │ flatten[<span style=\"color: #00af00; text-decoration-color: #00af00\">0</span>][<span style=\"color: #00af00; text-decoration-color: #00af00\">0</span>]     │\n",
       "├─────────────────────┼───────────────────┼────────────┼───────────────────┤\n",
       "│ dense_1 (<span style=\"color: #0087ff; text-decoration-color: #0087ff\">Dense</span>)     │ (<span style=\"color: #00d7ff; text-decoration-color: #00d7ff\">None</span>, <span style=\"color: #00af00; text-decoration-color: #00af00\">64</span>)        │      <span style=\"color: #00af00; text-decoration-color: #00af00\">8,256</span> │ dense[<span style=\"color: #00af00; text-decoration-color: #00af00\">0</span>][<span style=\"color: #00af00; text-decoration-color: #00af00\">0</span>]       │\n",
       "├─────────────────────┼───────────────────┼────────────┼───────────────────┤\n",
       "│ dense_2 (<span style=\"color: #0087ff; text-decoration-color: #0087ff\">Dense</span>)     │ (<span style=\"color: #00d7ff; text-decoration-color: #00d7ff\">None</span>, <span style=\"color: #00af00; text-decoration-color: #00af00\">1</span>)         │         <span style=\"color: #00af00; text-decoration-color: #00af00\">65</span> │ dense_1[<span style=\"color: #00af00; text-decoration-color: #00af00\">0</span>][<span style=\"color: #00af00; text-decoration-color: #00af00\">0</span>]     │\n",
       "└─────────────────────┴───────────────────┴────────────┴───────────────────┘\n",
       "</pre>\n"
      ],
      "text/plain": [
       "┏━━━━━━━━━━━━━━━━━━━━━┳━━━━━━━━━━━━━━━━━━━┳━━━━━━━━━━━━┳━━━━━━━━━━━━━━━━━━━┓\n",
       "┃\u001b[1m \u001b[0m\u001b[1mLayer (type)       \u001b[0m\u001b[1m \u001b[0m┃\u001b[1m \u001b[0m\u001b[1mOutput Shape     \u001b[0m\u001b[1m \u001b[0m┃\u001b[1m \u001b[0m\u001b[1m   Param #\u001b[0m\u001b[1m \u001b[0m┃\u001b[1m \u001b[0m\u001b[1mConnected to     \u001b[0m\u001b[1m \u001b[0m┃\n",
       "┡━━━━━━━━━━━━━━━━━━━━━╇━━━━━━━━━━━━━━━━━━━╇━━━━━━━━━━━━╇━━━━━━━━━━━━━━━━━━━┩\n",
       "│ input_layer         │ (\u001b[38;5;45mNone\u001b[0m, \u001b[38;5;34m1\u001b[0m, \u001b[38;5;34m768\u001b[0m)    │          \u001b[38;5;34m0\u001b[0m │ -                 │\n",
       "│ (\u001b[38;5;33mInputLayer\u001b[0m)        │                   │            │                   │\n",
       "├─────────────────────┼───────────────────┼────────────┼───────────────────┤\n",
       "│ attention           │ (\u001b[38;5;45mNone\u001b[0m, \u001b[38;5;34m1\u001b[0m, \u001b[38;5;34m768\u001b[0m)    │          \u001b[38;5;34m1\u001b[0m │ input_layer[\u001b[38;5;34m0\u001b[0m][\u001b[38;5;34m0\u001b[0m… │\n",
       "│ (\u001b[38;5;33mAttention\u001b[0m)         │                   │            │ input_layer[\u001b[38;5;34m0\u001b[0m][\u001b[38;5;34m0\u001b[0m… │\n",
       "│                     │                   │            │ input_layer[\u001b[38;5;34m0\u001b[0m][\u001b[38;5;34m0\u001b[0m] │\n",
       "├─────────────────────┼───────────────────┼────────────┼───────────────────┤\n",
       "│ flatten (\u001b[38;5;33mFlatten\u001b[0m)   │ (\u001b[38;5;45mNone\u001b[0m, \u001b[38;5;34m768\u001b[0m)       │          \u001b[38;5;34m0\u001b[0m │ attention[\u001b[38;5;34m0\u001b[0m][\u001b[38;5;34m0\u001b[0m]   │\n",
       "├─────────────────────┼───────────────────┼────────────┼───────────────────┤\n",
       "│ dense (\u001b[38;5;33mDense\u001b[0m)       │ (\u001b[38;5;45mNone\u001b[0m, \u001b[38;5;34m128\u001b[0m)       │     \u001b[38;5;34m98,432\u001b[0m │ flatten[\u001b[38;5;34m0\u001b[0m][\u001b[38;5;34m0\u001b[0m]     │\n",
       "├─────────────────────┼───────────────────┼────────────┼───────────────────┤\n",
       "│ dense_1 (\u001b[38;5;33mDense\u001b[0m)     │ (\u001b[38;5;45mNone\u001b[0m, \u001b[38;5;34m64\u001b[0m)        │      \u001b[38;5;34m8,256\u001b[0m │ dense[\u001b[38;5;34m0\u001b[0m][\u001b[38;5;34m0\u001b[0m]       │\n",
       "├─────────────────────┼───────────────────┼────────────┼───────────────────┤\n",
       "│ dense_2 (\u001b[38;5;33mDense\u001b[0m)     │ (\u001b[38;5;45mNone\u001b[0m, \u001b[38;5;34m1\u001b[0m)         │         \u001b[38;5;34m65\u001b[0m │ dense_1[\u001b[38;5;34m0\u001b[0m][\u001b[38;5;34m0\u001b[0m]     │\n",
       "└─────────────────────┴───────────────────┴────────────┴───────────────────┘\n"
      ]
     },
     "metadata": {},
     "output_type": "display_data"
    },
    {
     "data": {
      "text/html": [
       "<pre style=\"white-space:pre;overflow-x:auto;line-height:normal;font-family:Menlo,'DejaVu Sans Mono',consolas,'Courier New',monospace\"><span style=\"font-weight: bold\"> Total params: </span><span style=\"color: #00af00; text-decoration-color: #00af00\">106,754</span> (417.01 KB)\n",
       "</pre>\n"
      ],
      "text/plain": [
       "\u001b[1m Total params: \u001b[0m\u001b[38;5;34m106,754\u001b[0m (417.01 KB)\n"
      ]
     },
     "metadata": {},
     "output_type": "display_data"
    },
    {
     "data": {
      "text/html": [
       "<pre style=\"white-space:pre;overflow-x:auto;line-height:normal;font-family:Menlo,'DejaVu Sans Mono',consolas,'Courier New',monospace\"><span style=\"font-weight: bold\"> Trainable params: </span><span style=\"color: #00af00; text-decoration-color: #00af00\">106,754</span> (417.01 KB)\n",
       "</pre>\n"
      ],
      "text/plain": [
       "\u001b[1m Trainable params: \u001b[0m\u001b[38;5;34m106,754\u001b[0m (417.01 KB)\n"
      ]
     },
     "metadata": {},
     "output_type": "display_data"
    },
    {
     "data": {
      "text/html": [
       "<pre style=\"white-space:pre;overflow-x:auto;line-height:normal;font-family:Menlo,'DejaVu Sans Mono',consolas,'Courier New',monospace\"><span style=\"font-weight: bold\"> Non-trainable params: </span><span style=\"color: #00af00; text-decoration-color: #00af00\">0</span> (0.00 B)\n",
       "</pre>\n"
      ],
      "text/plain": [
       "\u001b[1m Non-trainable params: \u001b[0m\u001b[38;5;34m0\u001b[0m (0.00 B)\n"
      ]
     },
     "metadata": {},
     "output_type": "display_data"
    },
    {
     "name": "stdout",
     "output_type": "stream",
     "text": [
      "Epoch 1/20\n"
     ]
    },
    {
     "name": "stderr",
     "output_type": "stream",
     "text": [
      "c:\\Users\\Rise Networks\\Desktop\\AI_theory_grader\\aes_venv\\Lib\\site-packages\\keras\\src\\ops\\nn.py:944: UserWarning: You are using a softmax over axis -1 of a tensor of shape (None, 1, 1). This axis has size 1. The softmax operation will always return the value 1, which is likely not what you intended. Did you mean to use a sigmoid instead?\n",
      "  warnings.warn(\n"
     ]
    },
    {
     "name": "stdout",
     "output_type": "stream",
     "text": [
      "\u001b[1m17/17\u001b[0m \u001b[32m━━━━━━━━━━━━━━━━━━━━\u001b[0m\u001b[37m\u001b[0m \u001b[1m4s\u001b[0m 43ms/step - loss: 0.5747 - mean_absolute_error: 0.7086 - mean_squared_error: 0.5747 - val_loss: 0.0476 - val_mean_absolute_error: 0.2002 - val_mean_squared_error: 0.0476\n",
      "Epoch 2/20\n",
      "\u001b[1m17/17\u001b[0m \u001b[32m━━━━━━━━━━━━━━━━━━━━\u001b[0m\u001b[37m\u001b[0m \u001b[1m1s\u001b[0m 14ms/step - loss: 0.0381 - mean_absolute_error: 0.1760 - mean_squared_error: 0.0381 - val_loss: 0.0108 - val_mean_absolute_error: 0.0955 - val_mean_squared_error: 0.0108\n",
      "Epoch 3/20\n",
      "\u001b[1m17/17\u001b[0m \u001b[32m━━━━━━━━━━━━━━━━━━━━\u001b[0m\u001b[37m\u001b[0m \u001b[1m0s\u001b[0m 15ms/step - loss: 0.0092 - mean_absolute_error: 0.0727 - mean_squared_error: 0.0092 - val_loss: 0.0023 - val_mean_absolute_error: 0.0433 - val_mean_squared_error: 0.0023\n",
      "Epoch 4/20\n",
      "\u001b[1m17/17\u001b[0m \u001b[32m━━━━━━━━━━━━━━━━━━━━\u001b[0m\u001b[37m\u001b[0m \u001b[1m0s\u001b[0m 14ms/step - loss: 0.0031 - mean_absolute_error: 0.0328 - mean_squared_error: 0.0031 - val_loss: 1.6781e-04 - val_mean_absolute_error: 0.0119 - val_mean_squared_error: 1.6781e-04\n",
      "Epoch 5/20\n",
      "\u001b[1m17/17\u001b[0m \u001b[32m━━━━━━━━━━━━━━━━━━━━\u001b[0m\u001b[37m\u001b[0m \u001b[1m0s\u001b[0m 13ms/step - loss: 9.4953e-04 - mean_absolute_error: 0.0123 - mean_squared_error: 9.4953e-04 - val_loss: 2.3962e-05 - val_mean_absolute_error: 0.0040 - val_mean_squared_error: 2.3962e-05\n",
      "Epoch 6/20\n",
      "\u001b[1m17/17\u001b[0m \u001b[32m━━━━━━━━━━━━━━━━━━━━\u001b[0m\u001b[37m\u001b[0m \u001b[1m0s\u001b[0m 14ms/step - loss: 7.9891e-04 - mean_absolute_error: 0.0057 - mean_squared_error: 7.9891e-04 - val_loss: 4.1665e-06 - val_mean_absolute_error: 0.0015 - val_mean_squared_error: 4.1665e-06\n",
      "Epoch 7/20\n",
      "\u001b[1m17/17\u001b[0m \u001b[32m━━━━━━━━━━━━━━━━━━━━\u001b[0m\u001b[37m\u001b[0m \u001b[1m0s\u001b[0m 21ms/step - loss: 1.4820e-04 - mean_absolute_error: 0.0024 - mean_squared_error: 1.4820e-04 - val_loss: 1.3547e-05 - val_mean_absolute_error: 0.0034 - val_mean_squared_error: 1.3547e-05\n",
      "Epoch 8/20\n",
      "\u001b[1m17/17\u001b[0m \u001b[32m━━━━━━━━━━━━━━━━━━━━\u001b[0m\u001b[37m\u001b[0m \u001b[1m0s\u001b[0m 16ms/step - loss: 1.7602e-04 - mean_absolute_error: 0.0027 - mean_squared_error: 1.7602e-04 - val_loss: 1.7676e-06 - val_mean_absolute_error: 0.0011 - val_mean_squared_error: 1.7676e-06\n",
      "Epoch 9/20\n",
      "\u001b[1m17/17\u001b[0m \u001b[32m━━━━━━━━━━━━━━━━━━━━\u001b[0m\u001b[37m\u001b[0m \u001b[1m0s\u001b[0m 15ms/step - loss: 4.8032e-05 - mean_absolute_error: 0.0016 - mean_squared_error: 4.8032e-05 - val_loss: 8.4115e-07 - val_mean_absolute_error: 7.1825e-04 - val_mean_squared_error: 8.4115e-07\n",
      "Epoch 10/20\n",
      "\u001b[1m17/17\u001b[0m \u001b[32m━━━━━━━━━━━━━━━━━━━━\u001b[0m\u001b[37m\u001b[0m \u001b[1m0s\u001b[0m 14ms/step - loss: 5.2591e-05 - mean_absolute_error: 0.0011 - mean_squared_error: 5.2591e-05 - val_loss: 5.4706e-07 - val_mean_absolute_error: 5.9803e-04 - val_mean_squared_error: 5.4706e-07\n",
      "Epoch 11/20\n",
      "\u001b[1m17/17\u001b[0m \u001b[32m━━━━━━━━━━━━━━━━━━━━\u001b[0m\u001b[37m\u001b[0m \u001b[1m0s\u001b[0m 14ms/step - loss: 8.6864e-06 - mean_absolute_error: 7.5022e-04 - mean_squared_error: 8.6864e-06 - val_loss: 1.0435e-07 - val_mean_absolute_error: 2.1486e-04 - val_mean_squared_error: 1.0435e-07\n",
      "Epoch 12/20\n",
      "\u001b[1m17/17\u001b[0m \u001b[32m━━━━━━━━━━━━━━━━━━━━\u001b[0m\u001b[37m\u001b[0m \u001b[1m0s\u001b[0m 14ms/step - loss: 1.7960e-06 - mean_absolute_error: 3.4386e-04 - mean_squared_error: 1.7960e-06 - val_loss: 6.3152e-08 - val_mean_absolute_error: 1.7968e-04 - val_mean_squared_error: 6.3152e-08\n",
      "Epoch 13/20\n",
      "\u001b[1m17/17\u001b[0m \u001b[32m━━━━━━━━━━━━━━━━━━━━\u001b[0m\u001b[37m\u001b[0m \u001b[1m0s\u001b[0m 16ms/step - loss: 2.7460e-06 - mean_absolute_error: 3.6989e-04 - mean_squared_error: 2.7460e-06 - val_loss: 9.8745e-08 - val_mean_absolute_error: 2.4417e-04 - val_mean_squared_error: 9.8745e-08\n",
      "Epoch 14/20\n",
      "\u001b[1m17/17\u001b[0m \u001b[32m━━━━━━━━━━━━━━━━━━━━\u001b[0m\u001b[37m\u001b[0m \u001b[1m0s\u001b[0m 16ms/step - loss: 6.0125e-07 - mean_absolute_error: 2.7417e-04 - mean_squared_error: 6.0125e-07 - val_loss: 1.5235e-07 - val_mean_absolute_error: 2.6869e-04 - val_mean_squared_error: 1.5235e-07\n",
      "Epoch 15/20\n",
      "\u001b[1m17/17\u001b[0m \u001b[32m━━━━━━━━━━━━━━━━━━━━\u001b[0m\u001b[37m\u001b[0m \u001b[1m0s\u001b[0m 16ms/step - loss: 3.6474e-07 - mean_absolute_error: 2.2392e-04 - mean_squared_error: 3.6474e-07 - val_loss: 9.4925e-09 - val_mean_absolute_error: 6.2816e-05 - val_mean_squared_error: 9.4925e-09\n",
      "Epoch 16/20\n",
      "\u001b[1m17/17\u001b[0m \u001b[32m━━━━━━━━━━━━━━━━━━━━\u001b[0m\u001b[37m\u001b[0m \u001b[1m0s\u001b[0m 21ms/step - loss: 1.8654e-08 - mean_absolute_error: 5.6803e-05 - mean_squared_error: 1.8654e-08 - val_loss: 1.1077e-09 - val_mean_absolute_error: 2.6789e-05 - val_mean_squared_error: 1.1077e-09\n",
      "Epoch 17/20\n",
      "\u001b[1m17/17\u001b[0m \u001b[32m━━━━━━━━━━━━━━━━━━━━\u001b[0m\u001b[37m\u001b[0m \u001b[1m0s\u001b[0m 17ms/step - loss: 2.2912e-08 - mean_absolute_error: 5.1462e-05 - mean_squared_error: 2.2912e-08 - val_loss: 3.2476e-09 - val_mean_absolute_error: 3.4938e-05 - val_mean_squared_error: 3.2476e-09\n",
      "Epoch 18/20\n",
      "\u001b[1m17/17\u001b[0m \u001b[32m━━━━━━━━━━━━━━━━━━━━\u001b[0m\u001b[37m\u001b[0m \u001b[1m0s\u001b[0m 13ms/step - loss: 3.9182e-09 - mean_absolute_error: 3.0472e-05 - mean_squared_error: 3.9182e-09 - val_loss: 5.1088e-10 - val_mean_absolute_error: 1.4708e-05 - val_mean_squared_error: 5.1088e-10\n",
      "Epoch 19/20\n",
      "\u001b[1m17/17\u001b[0m \u001b[32m━━━━━━━━━━━━━━━━━━━━\u001b[0m\u001b[37m\u001b[0m \u001b[1m0s\u001b[0m 14ms/step - loss: 5.3512e-10 - mean_absolute_error: 1.2785e-05 - mean_squared_error: 5.3512e-10 - val_loss: 1.3745e-10 - val_mean_absolute_error: 7.9493e-06 - val_mean_squared_error: 1.3745e-10\n",
      "Epoch 20/20\n",
      "\u001b[1m17/17\u001b[0m \u001b[32m━━━━━━━━━━━━━━━━━━━━\u001b[0m\u001b[37m\u001b[0m \u001b[1m0s\u001b[0m 14ms/step - loss: 2.7234e-10 - mean_absolute_error: 9.7596e-06 - mean_squared_error: 2.7234e-10 - val_loss: 3.4155e-10 - val_mean_absolute_error: 1.2160e-05 - val_mean_squared_error: 3.4155e-10\n"
     ]
    }
   ],
   "source": [
    "import numpy as np\n",
    "import tensorflow as tf\n",
    "from tensorflow.keras.layers import Input, Attention, Dense, Reshape, Flatten\n",
    "from tensorflow.keras.models import Model\n",
    "from tensorflow.keras.metrics import MeanSquaredError, MeanAbsoluteError\n",
    "\n",
    "\n",
    "# X.shape = (597, 768)\n",
    "# y.shape = (597,)\n",
    "X = np.array(X)\n",
    "y = np.array(y)\n",
    "\n",
    "# Reshape X to add \"timesteps\" dimension so Attention works\n",
    "# Attention layer requires input shape: (batch_size, timesteps, features)\n",
    "# We'll reshape to (597, 1, 768) – treating all features as a single timestep\n",
    "X = X.reshape(-1, 1, X.shape[1])\n",
    "\n",
    "# Define input layer\n",
    "input_tensor = Input(shape=(1, 768))  # (timesteps=1, features=768)\n",
    "\n",
    "# Apply self-attention\n",
    "# Since timesteps=1, this is more like a passthrough — you might expand timesteps for full attention power\n",
    "attention_output = Attention(use_scale=True)([input_tensor, input_tensor, input_tensor])\n",
    "\n",
    "# Flatten and pass through dense layers\n",
    "x = Flatten()(attention_output)\n",
    "x = Dense(128, activation='relu')(x)\n",
    "x = Dense(64, activation='relu')(x)\n",
    "output_tensor = Dense(1)(x)  # Regression output\n",
    "\n",
    "# Build and compile model\n",
    "model = Model(inputs=input_tensor, outputs=output_tensor)\n",
    "model.compile(optimizer='adam', loss='mse', metrics=[MeanSquaredError(), MeanAbsoluteError()])\n",
    "\n",
    "# Summary\n",
    "model.summary()\n",
    "\n",
    "# Fit model\n",
    "history = model.fit(X, y, epochs=20, batch_size=32, validation_split=0.1)\n"
   ]
  },
  {
   "cell_type": "code",
   "execution_count": 15,
   "id": "bda4a4c9",
   "metadata": {},
   "outputs": [
    {
     "data": {
      "text/html": [
       "<div>\n",
       "<style scoped>\n",
       "    .dataframe tbody tr th:only-of-type {\n",
       "        vertical-align: middle;\n",
       "    }\n",
       "\n",
       "    .dataframe tbody tr th {\n",
       "        vertical-align: top;\n",
       "    }\n",
       "\n",
       "    .dataframe thead th {\n",
       "        text-align: right;\n",
       "    }\n",
       "</style>\n",
       "<table border=\"1\" class=\"dataframe\">\n",
       "  <thead>\n",
       "    <tr style=\"text-align: right;\">\n",
       "      <th></th>\n",
       "      <th>loss</th>\n",
       "      <th>mean_absolute_error</th>\n",
       "      <th>mean_squared_error</th>\n",
       "      <th>val_loss</th>\n",
       "      <th>val_mean_absolute_error</th>\n",
       "      <th>val_mean_squared_error</th>\n",
       "    </tr>\n",
       "  </thead>\n",
       "  <tbody>\n",
       "    <tr>\n",
       "      <th>0</th>\n",
       "      <td>0.329906</td>\n",
       "      <td>0.483372</td>\n",
       "      <td>0.329906</td>\n",
       "      <td>0.047642</td>\n",
       "      <td>0.200174</td>\n",
       "      <td>0.047642</td>\n",
       "    </tr>\n",
       "    <tr>\n",
       "      <th>1</th>\n",
       "      <td>0.024372</td>\n",
       "      <td>0.131572</td>\n",
       "      <td>0.024372</td>\n",
       "      <td>0.010756</td>\n",
       "      <td>0.095460</td>\n",
       "      <td>0.010756</td>\n",
       "    </tr>\n",
       "    <tr>\n",
       "      <th>2</th>\n",
       "      <td>0.005306</td>\n",
       "      <td>0.053246</td>\n",
       "      <td>0.005306</td>\n",
       "      <td>0.002294</td>\n",
       "      <td>0.043256</td>\n",
       "      <td>0.002294</td>\n",
       "    </tr>\n",
       "    <tr>\n",
       "      <th>3</th>\n",
       "      <td>0.001802</td>\n",
       "      <td>0.023591</td>\n",
       "      <td>0.001802</td>\n",
       "      <td>0.000168</td>\n",
       "      <td>0.011897</td>\n",
       "      <td>0.000168</td>\n",
       "    </tr>\n",
       "    <tr>\n",
       "      <th>4</th>\n",
       "      <td>0.000985</td>\n",
       "      <td>0.011164</td>\n",
       "      <td>0.000985</td>\n",
       "      <td>0.000024</td>\n",
       "      <td>0.003998</td>\n",
       "      <td>0.000024</td>\n",
       "    </tr>\n",
       "  </tbody>\n",
       "</table>\n",
       "</div>"
      ],
      "text/plain": [
       "       loss  mean_absolute_error  mean_squared_error  val_loss  \\\n",
       "0  0.329906             0.483372            0.329906  0.047642   \n",
       "1  0.024372             0.131572            0.024372  0.010756   \n",
       "2  0.005306             0.053246            0.005306  0.002294   \n",
       "3  0.001802             0.023591            0.001802  0.000168   \n",
       "4  0.000985             0.011164            0.000985  0.000024   \n",
       "\n",
       "   val_mean_absolute_error  val_mean_squared_error  \n",
       "0                 0.200174                0.047642  \n",
       "1                 0.095460                0.010756  \n",
       "2                 0.043256                0.002294  \n",
       "3                 0.011897                0.000168  \n",
       "4                 0.003998                0.000024  "
      ]
     },
     "execution_count": 15,
     "metadata": {},
     "output_type": "execute_result"
    }
   ],
   "source": [
    "history_df = pd.DataFrame(history.history)\n",
    "history_df.head()"
   ]
  },
  {
   "cell_type": "code",
   "execution_count": 16,
   "id": "4920b7b4",
   "metadata": {},
   "outputs": [
    {
     "data": {
      "image/png": "[encoded data removed]",
      "text/plain": [
       "<Figure size 640x480 with 1 Axes>"
      ]
     },
     "metadata": {},
     "output_type": "display_data"
    }
   ],
   "source": [
    "# Visualizing the loss of the model\n",
    "history_df.loc[:, [\"loss\", \"val_loss\"]].plot()\n",
    "plt.xlabel(\"Epochs\")\n",
    "plt.ylabel(\"Loss\")\n",
    "plt.title(\"LOSS MEASUREMENT\");"
   ]
  },
  {
   "cell_type": "code",
   "execution_count": 17,
   "id": "97b6139f",
   "metadata": {},
   "outputs": [
    {
     "data": {
      "image/png": "[encoded data removed]",
      "text/plain": [
       "<Figure size 640x480 with 1 Axes>"
      ]
     },
     "metadata": {},
     "output_type": "display_data"
    }
   ],
   "source": [
    "# Visualizing the loss of the model\n",
    "history_df.loc[:, [\"mean_absolute_error\", \"val_mean_absolute_error\"]].plot()\n",
    "plt.xlabel(\"Epochs\")\n",
    "plt.ylabel(\"MAE\")\n",
    "plt.title(\"MAE MEASUREMENT\");"
   ]
  },
  {
   "cell_type": "code",
   "execution_count": 18,
   "id": "18bd1a0a",
   "metadata": {},
   "outputs": [
    {
     "name": "stdout",
     "output_type": "stream",
     "text": [
      "\u001b[1m19/19\u001b[0m \u001b[32m━━━━━━━━━━━━━━━━━━━━\u001b[0m\u001b[37m\u001b[0m \u001b[1m0s\u001b[0m 6ms/step - loss: 4.8960e-10 - mean_absolute_error: 1.3479e-05 - mean_squared_error: 4.8960e-10\n"
     ]
    }
   ],
   "source": [
    "loss, mae, mse = model.evaluate(X, y)"
   ]
  },
  {
   "cell_type": "code",
   "execution_count": 19,
   "id": "504041b7",
   "metadata": {},
   "outputs": [
    {
     "name": "stdout",
     "output_type": "stream",
     "text": [
      "The loss of the model: 3.6517752710629736e-10\n",
      "The mae of the model: 3.6517752710629736e-10\n",
      "The mse of the model: 1.1981432180618867e-05\n"
     ]
    }
   ],
   "source": [
    "print(f\"The loss of the model: {loss}\")\n",
    "print(f\"The mae of the model: {mae}\")\n",
    "print(f\"The mse of the model: {mse}\")"
   ]
  },
  {
   "cell_type": "code",
   "execution_count": 20,
   "id": "94b01076",
   "metadata": {},
   "outputs": [],
   "source": [
    "# Saving the model using pickle or tf\n",
    "import pickle as pkl\n",
    "\n",
    "with open(\"aes_grader.pkl\", \"wb\") as f:\n",
    "    pkl.dump(model, f)"
   ]
  },
  {
   "cell_type": "code",
   "execution_count": 2,
   "id": "79b1a6e0",
   "metadata": {},
   "outputs": [],
   "source": [
    "# Now let's make predictions using the model\n",
    "import pickle as pkl\n",
    "\n",
    "with open(\"aes_grader.pkl\", \"rb\") as f:\n",
    "    aes_grader = pkl.load(f)"
   ]
  },
  {
   "cell_type": "code",
   "execution_count": 3,
   "id": "256d4378",
   "metadata": {},
   "outputs": [],
   "source": [
    "# Load the original data that was recieved from the backend\n",
    "with open(r\"C:\\Users\\Rise Networks\\Desktop\\AI_theory_grader\\answer.json\", \"r\") as f:\n",
    "    original_json_data = json.load(f)"
   ]
  },
  {
   "cell_type": "code",
   "execution_count": 4,
   "id": "9f141406",
   "metadata": {},
   "outputs": [
    {
     "data": {
      "text/plain": [
       "[{'question_id': '5',\n",
       "  'type': 'theory',\n",
       "  'answer': 'Science is the art of life',\n",
       "  'correct': '<p>Science can be define as the art of life</p>',\n",
       "  'status': 'PENDING'},\n",
       " {'question_id': '14',\n",
       "  'type': 'multiple',\n",
       "  'answer': '5',\n",
       "  'correct': '5',\n",
       "  'status': 'YES'},\n",
       " {'question_id': '15',\n",
       "  'type': 'multiple',\n",
       "  'answer': '2/3',\n",
       "  'correct': '2/3',\n",
       "  'status': 'YES'},\n",
       " {'question_id': '16',\n",
       "  'type': 'multiple',\n",
       "  'answer': '5',\n",
       "  'correct': '5',\n",
       "  'status': 'YES'},\n",
       " {'question_id': '17',\n",
       "  'type': 'alternate',\n",
       "  'answer': 'True',\n",
       "  'correct': 'True',\n",
       "  'status': 'YES'},\n",
       " {'question_id': '18',\n",
       "  'type': 'theory',\n",
       "  'answer': 'change the position of 4 over to right by subtracting both side by 4, = 12\\r\\ndivide both side by 3 , which is 12/3 = 4',\n",
       "  'correct': '<p>Subtract 4 from both sides: 3x = 12. Divide by 3: x = 4.</p>',\n",
       "  'status': 'PENDING'}]"
      ]
     },
     "execution_count": 4,
     "metadata": {},
     "output_type": "execute_result"
    }
   ],
   "source": [
    "original_json_data"
   ]
  },
  {
   "cell_type": "code",
   "execution_count": 6,
   "id": "db25cef7",
   "metadata": {},
   "outputs": [],
   "source": [
    "# !pip install python-dotenv"
   ]
  },
  {
   "cell_type": "code",
   "execution_count": 2,
   "id": "d6008225",
   "metadata": {},
   "outputs": [],
   "source": [
    "import os\n",
    "import requests\n",
    "\n",
    "API_URL = \"https://router.huggingface.co/hf-inference/models/facebook/bart-base/pipeline/feature-extraction\"\n",
    "headers = {\n",
    "    \"Authorization\": f\"Bearer {os.getenv('HF_TOKEN')}\",\n",
    "}\n",
    "\n",
    "def query(payload):\n",
    "    response = requests.post(API_URL, headers=headers, json=payload)\n",
    "    return response.json()\n",
    "\n",
    "output = query({\n",
    "    \"inputs\": \"Photosynthesis happens in plants using sunlight\"\n",
    "})"
   ]
  },
  {
   "cell_type": "code",
   "execution_count": 5,
   "id": "0bb5ca67",
   "metadata": {},
   "outputs": [
    {
     "data": {
      "text/plain": [
       "(9, 768)"
      ]
     },
     "execution_count": 5,
     "metadata": {},
     "output_type": "execute_result"
    }
   ],
   "source": [
    "np.array(output).shape"
   ]
  },
  {
   "cell_type": "code",
   "execution_count": 20,
   "id": "c9e3b7d4",
   "metadata": {},
   "outputs": [
    {
     "data": {
      "text/plain": [
       "768"
      ]
     },
     "execution_count": 20,
     "metadata": {},
     "output_type": "execute_result"
    }
   ],
   "source": [
    "384*2"
   ]
  },
  {
   "cell_type": "code",
   "execution_count": 53,
   "id": "a3e1a587",
   "metadata": {},
   "outputs": [],
   "source": [
    "# Using huggingface_hub api for easier accessibility\n",
    "import os\n",
    "from huggingface_hub import InferenceClient\n",
    "from dotenv import load_dotenv\n",
    "\n",
    "load_dotenv()\n",
    "# os.getenv(\"HF_TOKEN\")\n",
    "# sentence-transformers/all-mpnet-base-v2\n",
    "\n",
    "client = InferenceClient(api_key=os.getenv(\"HF_TOKEN\"), model=\"facebook/bart-base\")"
   ]
  },
  {
   "cell_type": "code",
   "execution_count": 11,
   "id": "a84307f2",
   "metadata": {},
   "outputs": [
    {
     "name": "stdout",
     "output_type": "stream",
     "text": [
      "(1, 1, 768)\n",
      "\u001b[1m1/1\u001b[0m \u001b[32m━━━━━━━━━━━━━━━━━━━━\u001b[0m\u001b[37m\u001b[0m \u001b[1m0s\u001b[0m 359ms/step\n",
      "(1, 1, 768)\n",
      "\u001b[1m1/1\u001b[0m \u001b[32m━━━━━━━━━━━━━━━━━━━━\u001b[0m\u001b[37m\u001b[0m \u001b[1m0s\u001b[0m 203ms/step\n"
     ]
    }
   ],
   "source": [
    "for data in original_json_data:\n",
    "    if data[\"type\"] == \"theory\":\n",
    "        # answer_embed = client.sentence_similarity(data[\"answer\"], data[\"correct\"])\n",
    "        source_embedding  = np.mean(client.feature_extraction(data[\"correct\"]), axis=0)\n",
    "        compare_embedding = np.mean(client.feature_extraction(data[\"answer\"]), axis=0)\n",
    "\n",
    "        # creating input vector uisng absolute difference\n",
    "        input_vector = np.abs(source_embedding - compare_embedding).reshape(1, 1, 768)\n",
    "\n",
    "        print(input_vector.shape)\n",
    "\n",
    "        # Extracting the score \n",
    "        score = aes_grader.predict(input_vector)\n",
    "\n",
    "        # Applying conditional formatting\n",
    "        if score >= 0.5:\n",
    "            data[\"PASSED\"] = True\n",
    "        else:\n",
    "            data[\"PASSED\"] = False"
   ]
  },
  {
   "cell_type": "code",
   "execution_count": 6,
   "id": "7287afed",
   "metadata": {},
   "outputs": [],
   "source": [
    "answer_a = \"Photosynthesis happens in plants using sunlight\"\n",
    "answer_b = \"Using sunlight, plants perform photosynthesis\""
   ]
  },
  {
   "cell_type": "code",
   "execution_count": 60,
   "id": "c6f20049",
   "metadata": {},
   "outputs": [],
   "source": [
    "xx = np.mean(client.feature_extraction(answer_a), axis = 0)\n"
   ]
  },
  {
   "cell_type": "code",
   "execution_count": 61,
   "id": "5b6589d2",
   "metadata": {},
   "outputs": [],
   "source": [
    "yy = np.mean(client.feature_extraction(answer_b), axis = 0)"
   ]
  },
  {
   "cell_type": "code",
   "execution_count": 64,
   "id": "56f81392",
   "metadata": {},
   "outputs": [
    {
     "data": {
      "text/plain": [
       "(1, 1, 768)"
      ]
     },
     "execution_count": 64,
     "metadata": {},
     "output_type": "execute_result"
    }
   ],
   "source": [
    "np.abs(xx - yy).reshape(1,1,768).shape"
   ]
  },
  {
   "cell_type": "code",
   "execution_count": 54,
   "id": "638afc5e",
   "metadata": {},
   "outputs": [
    {
     "data": {
      "text/plain": [
       "(9, 768)"
      ]
     },
     "execution_count": 54,
     "metadata": {},
     "output_type": "execute_result"
    }
   ],
   "source": [
    "np.array(client.feature_extraction(answer_b)).shape"
   ]
  },
  {
   "cell_type": "code",
   "execution_count": 55,
   "id": "f107b4f0",
   "metadata": {},
   "outputs": [
    {
     "data": {
      "text/plain": [
       "(9, 768)"
      ]
     },
     "execution_count": 55,
     "metadata": {},
     "output_type": "execute_result"
    }
   ],
   "source": [
    "np.array(client.feature_extraction(answer_a)).shape"
   ]
  },
  {
   "cell_type": "code",
   "execution_count": 6,
   "id": "d3cb6b5e",
   "metadata": {},
   "outputs": [
    {
     "ename": "NameError",
     "evalue": "name 'original_json_data' is not defined",
     "output_type": "error",
     "traceback": [
      "\u001b[31m---------------------------------------------------------------------------\u001b[39m",
      "\u001b[31mNameError\u001b[39m                                 Traceback (most recent call last)",
      "\u001b[36mCell\u001b[39m\u001b[36m \u001b[39m\u001b[32mIn[6]\u001b[39m\u001b[32m, line 1\u001b[39m\n\u001b[32m----> \u001b[39m\u001b[32m1\u001b[39m \u001b[43moriginal_json_data\u001b[49m\n",
      "\u001b[31mNameError\u001b[39m: name 'original_json_data' is not defined"
     ]
    }
   ],
   "source": [
    "original_json_data"
   ]
  },
  {
   "cell_type": "code",
   "execution_count": null,
   "id": "b67daa7b",
   "metadata": {},
   "outputs": [],
   "source": []
  }
 ],
 "metadata": {
  "kernelspec": {
   "display_name": "aes_venv",
   "language": "python",
   "name": "python3"
  },
  "language_info": {
   "codemirror_mode": {
    "name": "ipython",
    "version": 3
   },
   "file_extension": ".py",
   "mimetype": "text/x-python",
   "name": "python",
   "nbconvert_exporter": "python",
   "pygments_lexer": "ipython3",
   "version": "3.11.9"
  }
 },
 "nbformat": 4,
 "nbformat_minor": 5
}
